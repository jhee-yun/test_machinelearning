{
 "cells": [
  {
   "cell_type": "code",
   "execution_count": 1,
   "id": "8f0c0c53",
   "metadata": {},
   "outputs": [],
   "source": [
    "import pickle"
   ]
  },
  {
   "cell_type": "code",
   "execution_count": 3,
   "id": "8743ab09",
   "metadata": {
    "collapsed": true
   },
   "outputs": [
    {
     "ename": "UnicodeDecodeError",
     "evalue": "'cp949' codec can't decode byte 0x80 in position 0: illegal multibyte sequence",
     "output_type": "error",
     "traceback": [
      "\u001b[1;31m---------------------------------------------------------------------------\u001b[0m",
      "\u001b[1;31mUnicodeDecodeError\u001b[0m                        Traceback (most recent call last)",
      "\u001b[1;32m<ipython-input-3-e450adee2eb4>\u001b[0m in \u001b[0;36m<module>\u001b[1;34m\u001b[0m\n\u001b[1;32m----> 1\u001b[1;33m \u001b[0mpickle\u001b[0m\u001b[1;33m.\u001b[0m\u001b[0mload\u001b[0m\u001b[1;33m(\u001b[0m\u001b[0mopen\u001b[0m\u001b[1;33m(\u001b[0m\u001b[1;34m'./saves/favorite_save.pkl'\u001b[0m\u001b[1;33m)\u001b[0m\u001b[1;33m)\u001b[0m\u001b[1;33m\u001b[0m\u001b[0m\n\u001b[0m",
      "\u001b[1;31mUnicodeDecodeError\u001b[0m: 'cp949' codec can't decode byte 0x80 in position 0: illegal multibyte sequence"
     ]
    }
   ],
   "source": [
    "pickle.load(open('./saves/favorite_save.pkl','rb'))"
   ]
  },
  {
   "cell_type": "code",
   "execution_count": 5,
   "id": "bbbb5e89",
   "metadata": {},
   "outputs": [
    {
     "data": {
      "text/plain": [
       "{'lion': 'yellow', 'tiger': 'red'}"
      ]
     },
     "execution_count": 5,
     "metadata": {},
     "output_type": "execute_result"
    }
   ],
   "source": [
    "favorite_load = pickle.load(open('./saves/favorite_save.pkl','rb'))\n",
    "favorite_load"
   ]
  },
  {
   "cell_type": "code",
   "execution_count": 6,
   "id": "a4ff2bbc",
   "metadata": {},
   "outputs": [
    {
     "data": {
      "text/plain": [
       "dict"
      ]
     },
     "execution_count": 6,
     "metadata": {},
     "output_type": "execute_result"
    }
   ],
   "source": [
    "type(favorite_load)"
   ]
  },
  {
   "cell_type": "code",
   "execution_count": 7,
   "id": "96f0a9ca",
   "metadata": {},
   "outputs": [
    {
     "data": {
      "text/plain": [
       "'red'"
      ]
     },
     "execution_count": 7,
     "metadata": {},
     "output_type": "execute_result"
    }
   ],
   "source": [
    "favorite_load['tiger']"
   ]
  },
  {
   "cell_type": "code",
   "execution_count": 9,
   "id": "871598e8",
   "metadata": {},
   "outputs": [
    {
     "data": {
      "text/plain": [
       "LinearRegression()"
      ]
     },
     "execution_count": 9,
     "metadata": {},
     "output_type": "execute_result"
    }
   ],
   "source": [
    "autompg_lr = pickle.load(open('./saves/autompg_lr.pkl','rb'))\n",
    "autompg_lr"
   ]
  },
  {
   "cell_type": "code",
   "execution_count": 10,
   "id": "1c5065c2",
   "metadata": {},
   "outputs": [
    {
     "data": {
      "text/plain": [
       "sklearn.linear_model._base.LinearRegression"
      ]
     },
     "execution_count": 10,
     "metadata": {},
     "output_type": "execute_result"
    }
   ],
   "source": [
    "type(autompg_lr)"
   ]
  },
  {
   "cell_type": "code",
   "execution_count": 11,
   "id": "7bc1680f",
   "metadata": {},
   "outputs": [
    {
     "data": {
      "text/plain": [
       "array([[18.06190914]])"
      ]
     },
     "execution_count": 11,
     "metadata": {},
     "output_type": "execute_result"
    }
   ],
   "source": [
    "autompg_lr.predict([[3504.0,8]])"
   ]
  },
  {
   "cell_type": "code",
   "execution_count": null,
   "id": "6922fcc5",
   "metadata": {},
   "outputs": [],
   "source": []
  }
 ],
 "metadata": {
  "kernelspec": {
   "display_name": "Python 3",
   "language": "python",
   "name": "python3"
  },
  "language_info": {
   "codemirror_mode": {
    "name": "ipython",
    "version": 3
   },
   "file_extension": ".py",
   "mimetype": "text/x-python",
   "name": "python",
   "nbconvert_exporter": "python",
   "pygments_lexer": "ipython3",
   "version": "3.6.4"
  }
 },
 "nbformat": 4,
 "nbformat_minor": 5
}
